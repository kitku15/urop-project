{
 "cells": [
  {
   "cell_type": "markdown",
   "id": "a57e3a9f",
   "metadata": {},
   "source": [
    "## Part I: Preprocessing\n",
    "In this part, we will crop images, make masks and split them into 676 (26 x 26) boxes. Start by importing functions. \n",
    "Set info of the images for analysis. Sections to change are labelled in comments"
   ]
  },
  {
   "cell_type": "code",
   "execution_count": null,
   "id": "e62ac20a",
   "metadata": {},
   "outputs": [],
   "source": [
    "%load_ext autoreload\n",
    "%autoreload 2"
   ]
  },
  {
   "cell_type": "code",
   "execution_count": null,
   "id": "af764920",
   "metadata": {},
   "outputs": [],
   "source": [
    "import f_preprocessing \n",
    "import f_modelDetection\n",
    "import f_coordFinder\n",
    "import f_intensityMeasurement\n",
    "import f_distributions\n",
    "import f_ND6GastruloidScoring\n",
    "\n",
    "wt = \"WT\"\n",
    "mutant = \"ND6\" # change this to your mutant type \n",
    "conditions = [wt, mutant]\n",
    "\n",
    "repeats = [1,2,3]\n",
    "\n",
    "markers = [\"DAPI\", \"SOX2\", \"BRA\", \"GATA3\"] # change this to your markers \n",
    "\n",
    "channel_folders = { # change this to your markers and how theyre arranged on the CZI channels\n",
    "        0: 'DAPI',\n",
    "        1: 'SOX2',\n",
    "        2: 'GATA3',\n",
    "        3: 'BRA'\n",
    "    }\n",
    "\n",
    "directory = \"CHIP_REPEATS_NEW\" # directory as shown above\n",
    "cropping_csv_path = \"cropping.csv\" # where all cropping info will be saved\n"
   ]
  },
  {
   "cell_type": "markdown",
   "id": "2840a18b",
   "metadata": {},
   "source": [
    "Set where the czi files are saved in and other file directories. Arrange your CZI files in this format:\n",
    "\n",
    "```\n",
    "CHIP_REPEATS\n",
    "├── 1 \n",
    "│   ├── WT.czi\n",
    "│   └── ND6.czi\n",
    "├── 2\n",
    "│   ├── WT.czi\n",
    "│   └── ND6.czi\n",
    "├── 3\n",
    "│   ├── WT.czi\n",
    "│   └── ND6.czi\n",
    "```\n",
    "\n",
    "Where the numbers represent your repeats and ND6 us what you set mutant as above "
   ]
  },
  {
   "cell_type": "markdown",
   "id": "3c0afce0",
   "metadata": {},
   "source": [
    "### If Masks were made before cropping:\n",
    "If you made the masks using the Raw image from the microscope then follow these steps.\n",
    "1. Make sure they are named and inside the directory set above like this:\n",
    "```\n",
    "    CHIP_REPEATS\n",
    "    ├── 1 \n",
    "    │   ├── {condition}_{marker}_mask.tiff\n",
    "    │   ├── WT_DAPI_mask.tiff\n",
    "    │   ├── ND6_DAPI_mask.tiff\n",
    "    │   ├── WT_SOX2_mask.tiff\n",
    "    │   ├── ND6_SOX2_mask.tiff\n",
    "    │   └── ...\n",
    "    ├── 2\n",
    "    │   ├── ...\n",
    "    │   └── ...\n",
    "    ├── 3\n",
    "    │   ├──...\n",
    "    │   └── ...\n",
    "```\n",
    "2. Convert CZI image into a tiff with the channels still intact using the block below"
   ]
  },
  {
   "cell_type": "code",
   "execution_count": null,
   "id": "be91b029",
   "metadata": {},
   "outputs": [],
   "source": [
    "f_preprocessing.convert_czi_to_tiff(directory)"
   ]
  },
  {
   "cell_type": "markdown",
   "id": "ead4a329",
   "metadata": {},
   "source": [
    "After the step above step, you should use ImageJ/ Fiji to do these steps:\n",
    "1. Manually crop and adjust angles \n",
    "2. Save coordinates for cropping in directory. (shown below)\n",
    "2. Scale the cropped image to 7800 x 7800 pixels\n",
    "3. Save the cropped scaled image in directory like this:\n",
    "\n",
    "```\n",
    "    CHIP_REPEATS\n",
    "    ├── 1 \n",
    "    │   ├── {condition}_scaled.tiff \n",
    "    │   ├── {condition}_coords.csv \n",
    "    │   ├── WT_scaled.tiff\n",
    "    │   ├── ND6_scaled.tiff\n",
    "    │   ├── WT_coords.csv\n",
    "    │   └── ND6_coords.csv\n",
    "    ├── 2\n",
    "    │   ├── ...\n",
    "    │   └── ...\n",
    "    ├── 3\n",
    "    │   ├──...\n",
    "    │   └── ...\n",
    "```\n",
    "\n",
    "A tutorial of how to do the above steps right here: (link). \n",
    "\n",
    "Once youre done, Run the block below which:\n",
    "1. Split the Tiffs into channels according to the channel folders set above \n",
    "2. Compile cropping coordinates into a cropping.csv file. \n",
    "\n",
    "After running the block below, if the raw images were rotated in ImageJ (before cropping), the angle for adjustment needs to be added to the csv file (default is 0)."
   ]
  },
  {
   "cell_type": "code",
   "execution_count": null,
   "id": "74a59c4b",
   "metadata": {},
   "outputs": [],
   "source": [
    "# Check the dimensions of your tiff files\n",
    "# f_preprocessing.check_dimensions(directory) # it should show your scaled images have dimensions ({number of channels}, 7800, 7800)\n",
    "f_preprocessing.check_dimensions(\"CHIP_REPEATS_NEW/2\") # it should show your scaled images have dimensions ({number of channels}, 7800, 7800)"
   ]
  },
  {
   "cell_type": "code",
   "execution_count": null,
   "id": "ad39fb16",
   "metadata": {},
   "outputs": [],
   "source": [
    "# split Tiffs into channels \n",
    "f_preprocessing.split_tiff_into_channels(directory, repeats, conditions, channel_folders)\n",
    "\n",
    "# Compile cropping coordinates (to crop masks according to how images were cropped)\n",
    "f_preprocessing.compile_crop_coordinates(directory, repeats, conditions, cropping_csv_path)"
   ]
  },
  {
   "cell_type": "markdown",
   "id": "0d9ad3cc",
   "metadata": {},
   "source": [
    "Crop and resize masks. They will replace the original mask tiff. Then we check if all tiffs we have in our directory are the same size."
   ]
  },
  {
   "cell_type": "code",
   "execution_count": null,
   "id": "735bf113",
   "metadata": {},
   "outputs": [],
   "source": [
    "f_preprocessing.crop_masks(directory, cropping_csv_path, conditions, repeats, markers)\n",
    "print(\"finished cropping all masks!\")\n",
    "f_preprocessing.check_dimensions(directory)"
   ]
  },
  {
   "cell_type": "markdown",
   "id": "99655a61",
   "metadata": {},
   "source": [
    "Now all Images and Masks are aligned and the same size, we will split them into 676 boxes using a 26 x 26 grid. This process might take awhile. (7-10min)"
   ]
  },
  {
   "cell_type": "code",
   "execution_count": null,
   "id": "b93e3c5f",
   "metadata": {},
   "outputs": [],
   "source": [
    "f_modelDetection.make_grid_and_split_all(directory, markers, conditions, repeats)"
   ]
  },
  {
   "cell_type": "markdown",
   "id": "848168cc",
   "metadata": {},
   "source": [
    "Manually select which boxes to include in the analysis. When finishing, all coordinates and diameters of models will be saved and you can move on to Radius adjustment. Run the second block below to create another folder called \"boxes_tiff_selected\" that only include the boxes you have selected and have been assigned a different index. "
   ]
  },
  {
   "cell_type": "code",
   "execution_count": null,
   "id": "dd74e8f8",
   "metadata": {},
   "outputs": [],
   "source": [
    "model_marker = [\"DAPI\"]\n",
    "f_modelDetection.detect_blob_all(directory, model_marker, conditions, repeats)"
   ]
  },
  {
   "cell_type": "code",
   "execution_count": null,
   "id": "b195797e",
   "metadata": {},
   "outputs": [],
   "source": [
    "f_modelDetection.boxes_tiff_selected(directory, repeats, conditions, markers)"
   ]
  },
  {
   "cell_type": "markdown",
   "id": "d66d10b0",
   "metadata": {},
   "source": [
    "## Part II: Radius Adjustment\n",
    "In this part, we will use Repeat 1, DAPI to manually adjust and set the radius sizes for our Bins. Set values in the adjusting_values dictionary to save a folder of images in this format \"{directory}/{repeat}/adjusting/{marker_adjusting}\" of the marker along with a circle rperesenting the radius you set. DAPI is used to adjust for the Radius of the model. BRA is used to adjust for the middle radius, SOX2 is used to adjust for the smallest Radius. "
   ]
  },
  {
   "cell_type": "code",
   "execution_count": null,
   "id": "a9a5099f",
   "metadata": {},
   "outputs": [],
   "source": [
    "radius_values = {\"DAPI\": 110, # change these numbers (theyre just an example)\n",
    "                     \"BRA\": 73.923,\n",
    "                     \"SOX2\": 51.789 }\n"
   ]
  },
  {
   "cell_type": "markdown",
   "id": "0834e4da",
   "metadata": {},
   "source": [
    "Run the block below to start adjustment. Making binary masks will take ~1min. Then it will make images saved in your directory under a folder called adjusting for you to see what the radius you set above looks like on the images (3-4min). Coordinates found will be saved in a folder called 'coordinates' in your directory. \n",
    "\n",
    "adjusting=False means no images will be saved (makes it run faster). adjusting = True makes it save all images to adjust for radius (takes a long time but useful for adjusting radius or trying to visualize how the radius looks like on the image / how well coordinate detection is going)"
   ]
  },
  {
   "cell_type": "code",
   "execution_count": null,
   "id": "98448f64",
   "metadata": {},
   "outputs": [],
   "source": [
    "f_coordFinder.run_R2(directory, repeats, conditions, radius_values, adjusting=True)\n"
   ]
  },
  {
   "cell_type": "markdown",
   "id": "0cc0eced",
   "metadata": {},
   "source": [
    "## Part III: Bin Intensity Measurement\n",
    "In this part, using the radius we have adjusted and set above, we will load the coordinates saved and measure the RAW intensity for each marker (yes including DAPI). These raw coordinates will be saved in an npz in a folder called 'intensities'. Before we do that, lets make a mask for GATA3 to remove noise as the image is really noisy! from using pink nailpolish >:("
   ]
  },
  {
   "cell_type": "code",
   "execution_count": null,
   "id": "0f8558cf",
   "metadata": {},
   "outputs": [],
   "source": [
    "f_intensityMeasurement.make_GATA3_filter(directory, repeats, conditions)"
   ]
  },
  {
   "cell_type": "code",
   "execution_count": null,
   "id": "e2c7fcc9",
   "metadata": {},
   "outputs": [],
   "source": [
    "f_intensityMeasurement.intensities_per_marker(directory, repeats, conditions, markers, radius_values)"
   ]
  },
  {
   "cell_type": "markdown",
   "id": "cb5eace1",
   "metadata": {},
   "source": [
    "Now we will normalize all the markers we have by DAPI."
   ]
  },
  {
   "cell_type": "code",
   "execution_count": null,
   "id": "680af89f",
   "metadata": {},
   "outputs": [],
   "source": [
    "f_intensityMeasurement.normalize_markers(directory, repeats, conditions, markers)"
   ]
  },
  {
   "cell_type": "markdown",
   "id": "8d98922a",
   "metadata": {},
   "source": [
    "You might want to take a quick look at meta_intensities.csv to see if your values kind of make sense. If you're satisfied, its time to visualize the data! (plot it!). You can find all plots in your directory, in a folder called 'plots'."
   ]
  },
  {
   "cell_type": "code",
   "execution_count": null,
   "id": "8ccecf18",
   "metadata": {},
   "outputs": [],
   "source": [
    "meta_path = f'{directory}/meta_intensities.csv'\n",
    "\n",
    "\n",
    "for repeat in repeats:\n",
    "    save_dir = f'{directory}/{repeat}/plots'\n",
    "    f_intensityMeasurement.bar_plot(meta_path, repeat, plot_type='line', save_dir=save_dir)\n",
    "\n",
    "for repeat in repeats:\n",
    "    for marker in markers:\n",
    "        if marker != \"DAPI\":\n",
    "            save_dir = f'{directory}/{repeat}/plots'\n",
    "            f_intensityMeasurement.plot_marker_condition_overlap(meta_path, repeat, marker, save_dir=save_dir)"
   ]
  },
  {
   "cell_type": "markdown",
   "id": "91614f65",
   "metadata": {},
   "source": [
    "## Part IV: Diameter and Intensity Distribution \n",
    "In this section, we will find the diameter (by DAPI) and Intensity (of each marker) of each gastruloid. Then we will plot this data on an overlap density plot (WT vs mutant). So the plots we will make are\n",
    "1.  Gastruloid Diameter\n",
    "2.  All markers Intensity \n",
    "\n",
    "We are trying to find a relationship between correct marker expression localisation so we will plot a scatter plot where the x-axis is the gastruloid diameter and the y-axis is the intensity of specific markers in specific regions. Here, we are using:\n",
    "- SOX2: inner bin \n",
    "- BRA: middle bin\n",
    "- GATA3: outer bin\n"
   ]
  },
  {
   "cell_type": "code",
   "execution_count": null,
   "id": "ccfae1eb",
   "metadata": {},
   "outputs": [],
   "source": [
    "f_distributions.get_distributions(directory, repeats, conditions, markers)"
   ]
  },
  {
   "cell_type": "code",
   "execution_count": null,
   "id": "fb3d0ea0",
   "metadata": {},
   "outputs": [],
   "source": [
    "marker_loc_dict = {'SOX2': 'inner', 'BRA': 'mid', 'GATA3': 'outer'}\n",
    "\n",
    "for repeat in repeats:\n",
    "    for marker, _ in marker_loc_dict.items():\n",
    "            repeats_data = [\n",
    "                (directory, repeat, 'WT', f'{directory}/{repeat}/intensities/meta_individual_WT.csv', f'{directory}/{repeat}/distribution/WT_DAPI.csv', marker),\n",
    "                (directory, repeat, 'ND6', f'{directory}/{repeat}/intensities/meta_individual_ND6.csv', f'{directory}/{repeat}/distribution/ND6_DAPI.csv', marker),\n",
    "            ]\n",
    "\n",
    "            # f_distributions.combined_plot_intensity_vs_diameter(\n",
    "            #     repeats_data,\n",
    "            #     marker_loc_dict\n",
    "            # )\n",
    "            \n",
    "            f_distributions.combined_plot_intensity_vs_DAPIintensity(\n",
    "                repeats_data,\n",
    "                marker_loc_dict\n",
    "            )"
   ]
  },
  {
   "cell_type": "markdown",
   "id": "452e70c8",
   "metadata": {},
   "source": [
    "## Part V: Scoring ND6 Gastruloids and Plotting\n",
    "In this section, we will score each ND6 gastruloid by comparing it to the WT of its repeat. The block below scores each gastruloid based on how similar their marker expression localisation is compared to WT. Higher score means less of a phenotype, lower score means more of a phenotype. You can see the results in your directory under this file name: \"nd6_overlap_scores_{marker}.csv\""
   ]
  },
  {
   "cell_type": "code",
   "execution_count": null,
   "id": "e26075c1",
   "metadata": {},
   "outputs": [],
   "source": [
    "f_ND6GastruloidScoring.score_gastruloid(directory, repeats, markers, conditions)"
   ]
  },
  {
   "cell_type": "markdown",
   "id": "58dc9499",
   "metadata": {},
   "source": [
    "Run the code below to get the final score of each gastruloid (final is the average between BRA, SOX2 and GATA3 scores)"
   ]
  },
  {
   "cell_type": "code",
   "execution_count": null,
   "id": "52fafd05",
   "metadata": {},
   "outputs": [],
   "source": [
    "f_ND6GastruloidScoring.final_score_gastruloid(directory, repeats, conditions)"
   ]
  },
  {
   "cell_type": "markdown",
   "id": "7b01e75f",
   "metadata": {},
   "source": [
    "Run the code below to get a figure of 5 gastruloids (either top scoring, middle socring or low scoring). The figure of each gastruloid is each of the channels seperately and one merged (excluding DAPI)"
   ]
  },
  {
   "cell_type": "code",
   "execution_count": null,
   "id": "d41ae182",
   "metadata": {},
   "outputs": [],
   "source": [
    "# selection must be 'top', 'bottom', or 'middle'\n",
    "f_ND6GastruloidScoring.plot_gastruloid_scoring(directory, repeats, \"bottom\", conditions)"
   ]
  },
  {
   "cell_type": "markdown",
   "id": "8594a5ba",
   "metadata": {},
   "source": [
    "Run the code below to get a Scatterplot where the x axis is gastruloid score and the y axis is DAPI Intensity. This is to see whether more cells (higher DAPI intensity) is related to higher scoring ND6 gastruloids. "
   ]
  },
  {
   "cell_type": "code",
   "execution_count": null,
   "id": "a510dd50",
   "metadata": {},
   "outputs": [],
   "source": [
    "f_ND6GastruloidScoring.DAPIIntensity_vs_score_scatterplot(directory, repeats, conditions)"
   ]
  },
  {
   "cell_type": "code",
   "execution_count": null,
   "id": "49c7df63",
   "metadata": {},
   "outputs": [],
   "source": [
    "f_ND6GastruloidScoring.DAPIIntensity_vs_score_scatterplot_combined(directory, repeats, conditions)"
   ]
  },
  {
   "cell_type": "markdown",
   "id": "efbcf2f8",
   "metadata": {},
   "source": [
    "Run the code below with a specific gastruloid ID (and their condition and repeat) to save a figure of that gastruloid that contains the channels seperate and merged (excluding DAPI)"
   ]
  },
  {
   "cell_type": "code",
   "execution_count": null,
   "id": "ef3c84ae",
   "metadata": {},
   "outputs": [],
   "source": [
    "idx = 587\n",
    "condition = 'WT'\n",
    "repeat = 3\n",
    "f_ND6GastruloidScoring.channels_plot_any(idx, directory, repeat, condition)"
   ]
  },
  {
   "cell_type": "markdown",
   "id": "866b742f",
   "metadata": {},
   "source": [
    "Run the code below to get the average DAPI Intensity in each repeat and condition. Will be saved in directory in a csv named \"meta_DAPIintensity.csv\""
   ]
  },
  {
   "cell_type": "code",
   "execution_count": null,
   "id": "9b53046e",
   "metadata": {},
   "outputs": [],
   "source": [
    "f_ND6GastruloidScoring.DAPI_average_intensity(directory, repeats, conditions)"
   ]
  }
 ],
 "metadata": {
  "kernelspec": {
   "display_name": "env (3.12.10)",
   "language": "python",
   "name": "python3"
  },
  "language_info": {
   "codemirror_mode": {
    "name": "ipython",
    "version": 3
   },
   "file_extension": ".py",
   "mimetype": "text/x-python",
   "name": "python",
   "nbconvert_exporter": "python",
   "pygments_lexer": "ipython3",
   "version": "3.12.10"
  }
 },
 "nbformat": 4,
 "nbformat_minor": 5
}
